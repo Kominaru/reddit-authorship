{
 "cells": [
  {
   "cell_type": "code",
   "execution_count": 1,
   "metadata": {},
   "outputs": [],
   "source": [
    "import pandas as pd\n",
    "import matplotlib.pyplot as plt\n",
    "import os"
   ]
  },
  {
   "cell_type": "code",
   "execution_count": 2,
   "metadata": {},
   "outputs": [],
   "source": [
    "df=pd.read_csv(\"r_coronavirus_users_comments_march21.csv\")\n"
   ]
  },
  {
   "cell_type": "code",
   "execution_count": 6,
   "metadata": {},
   "outputs": [
    {
     "data": {
      "text/html": [
       "<div>\n",
       "<style scoped>\n",
       "    .dataframe tbody tr th:only-of-type {\n",
       "        vertical-align: middle;\n",
       "    }\n",
       "\n",
       "    .dataframe tbody tr th {\n",
       "        vertical-align: top;\n",
       "    }\n",
       "\n",
       "    .dataframe thead th {\n",
       "        text-align: right;\n",
       "    }\n",
       "</style>\n",
       "<table border=\"1\" class=\"dataframe\">\n",
       "  <thead>\n",
       "    <tr style=\"text-align: right;\">\n",
       "      <th></th>\n",
       "      <th>Post ID</th>\n",
       "      <th>Subreddit</th>\n",
       "      <th>Body</th>\n",
       "      <th>Author</th>\n",
       "      <th>Score</th>\n",
       "      <th>Publish Date</th>\n",
       "      <th>Permalink</th>\n",
       "      <th>Parent_id</th>\n",
       "      <th>Post_id</th>\n",
       "    </tr>\n",
       "  </thead>\n",
       "  <tbody>\n",
       "    <tr>\n",
       "      <th>0</th>\n",
       "      <td>ghs4jlw</td>\n",
       "      <td>running</td>\n",
       "      <td>Good, a bit white. Testing out the Gopro Hero ...</td>\n",
       "      <td>Mutiny32</td>\n",
       "      <td>1</td>\n",
       "      <td>2021-01-02 02:15:23</td>\n",
       "      <td>/r/running/comments/kobr64/how_was_your_new_ye...</td>\n",
       "      <td>t3_kobr64</td>\n",
       "      <td>t3_kobr64</td>\n",
       "    </tr>\n",
       "    <tr>\n",
       "      <th>1</th>\n",
       "      <td>ghs5lx0</td>\n",
       "      <td>running</td>\n",
       "      <td>https://imgur.com/Zn42vby.jpg</td>\n",
       "      <td>Mutiny32</td>\n",
       "      <td>1</td>\n",
       "      <td>2021-01-02 02:25:21</td>\n",
       "      <td>/r/running/comments/koaxgm/its_photo_friday_le...</td>\n",
       "      <td>t3_koaxgm</td>\n",
       "      <td>t3_koaxgm</td>\n",
       "    </tr>\n",
       "    <tr>\n",
       "      <th>2</th>\n",
       "      <td>ghu1x9t</td>\n",
       "      <td>AdvancedRunning</td>\n",
       "      <td>1. Lose 20 pounds by April 24  2. Run Zurich M...</td>\n",
       "      <td>Mutiny32</td>\n",
       "      <td>1</td>\n",
       "      <td>2021-01-02 16:49:08</td>\n",
       "      <td>/r/AdvancedRunning/comments/koenal/2021_goal_s...</td>\n",
       "      <td>t3_koenal</td>\n",
       "      <td>t3_koenal</td>\n",
       "    </tr>\n",
       "    <tr>\n",
       "      <th>3</th>\n",
       "      <td>gjslc8p</td>\n",
       "      <td>nfl</td>\n",
       "      <td>Is a Pop Tart ravioli?</td>\n",
       "      <td>Mutiny32</td>\n",
       "      <td>5</td>\n",
       "      <td>2021-01-19 04:47:27</td>\n",
       "      <td>/r/nfl/comments/l07gj6/chiefs_qb_mahomes_remai...</td>\n",
       "      <td>t1_gjsl19c</td>\n",
       "      <td>t3_l07gj6</td>\n",
       "    </tr>\n",
       "    <tr>\n",
       "      <th>4</th>\n",
       "      <td>gl3p61d</td>\n",
       "      <td>GoogleFi</td>\n",
       "      <td>I have this exact same situation. Also apparen...</td>\n",
       "      <td>Mutiny32</td>\n",
       "      <td>2</td>\n",
       "      <td>2021-01-28 16:29:50</td>\n",
       "      <td>/r/GoogleFi/comments/l6rpa9/activated_s215g/gl...</td>\n",
       "      <td>t1_gl3lqf6</td>\n",
       "      <td>t3_l6rpa9</td>\n",
       "    </tr>\n",
       "    <tr>\n",
       "      <th>...</th>\n",
       "      <td>...</td>\n",
       "      <td>...</td>\n",
       "      <td>...</td>\n",
       "      <td>...</td>\n",
       "      <td>...</td>\n",
       "      <td>...</td>\n",
       "      <td>...</td>\n",
       "      <td>...</td>\n",
       "      <td>...</td>\n",
       "    </tr>\n",
       "    <tr>\n",
       "      <th>2210370</th>\n",
       "      <td>glfetdv</td>\n",
       "      <td>ak47</td>\n",
       "      <td>thanks</td>\n",
       "      <td>bownt1</td>\n",
       "      <td>1</td>\n",
       "      <td>2021-01-31 01:42:14</td>\n",
       "      <td>/r/ak47/comments/l8vca3/what_would_you_upgrade...</td>\n",
       "      <td>t1_glfejji</td>\n",
       "      <td>t3_l8vca3</td>\n",
       "    </tr>\n",
       "    <tr>\n",
       "      <th>2210371</th>\n",
       "      <td>glk77ge</td>\n",
       "      <td>suggestmeabook</td>\n",
       "      <td>we are legion we are bob</td>\n",
       "      <td>bownt1</td>\n",
       "      <td>3</td>\n",
       "      <td>2021-02-01 05:08:15</td>\n",
       "      <td>/r/suggestmeabook/comments/l9uceg/books_about_...</td>\n",
       "      <td>t3_l9uceg</td>\n",
       "      <td>t3_l9uceg</td>\n",
       "    </tr>\n",
       "    <tr>\n",
       "      <th>2210372</th>\n",
       "      <td>gln2zl5</td>\n",
       "      <td>Conservative</td>\n",
       "      <td>im betting it will be super unconstitutional !</td>\n",
       "      <td>bownt1</td>\n",
       "      <td>41</td>\n",
       "      <td>2021-02-01 20:54:52</td>\n",
       "      <td>/r/Conservative/comments/lacbnw/many_us_gun_ow...</td>\n",
       "      <td>t3_lacbnw</td>\n",
       "      <td>t3_lacbnw</td>\n",
       "    </tr>\n",
       "    <tr>\n",
       "      <th>2210373</th>\n",
       "      <td>glnud2d</td>\n",
       "      <td>videos</td>\n",
       "      <td>i always wondered how they got the bones out</td>\n",
       "      <td>bownt1</td>\n",
       "      <td>2</td>\n",
       "      <td>2021-02-01 23:56:30</td>\n",
       "      <td>/r/videos/comments/lagnfs/1980s_mcrib_commerci...</td>\n",
       "      <td>t3_lagnfs</td>\n",
       "      <td>t3_lagnfs</td>\n",
       "    </tr>\n",
       "    <tr>\n",
       "      <th>2210374</th>\n",
       "      <td>glocu2h</td>\n",
       "      <td>liberalgunowners</td>\n",
       "      <td>they make 9mm ak s</td>\n",
       "      <td>bownt1</td>\n",
       "      <td>1</td>\n",
       "      <td>2021-02-02 02:17:49</td>\n",
       "      <td>/r/liberalgunowners/comments/laftrj/i_did_not_...</td>\n",
       "      <td>t1_globova</td>\n",
       "      <td>t3_laftrj</td>\n",
       "    </tr>\n",
       "  </tbody>\n",
       "</table>\n",
       "<p>2210375 rows × 9 columns</p>\n",
       "</div>"
      ],
      "text/plain": [
       "         Post ID         Subreddit  \\\n",
       "0        ghs4jlw           running   \n",
       "1        ghs5lx0           running   \n",
       "2        ghu1x9t   AdvancedRunning   \n",
       "3        gjslc8p               nfl   \n",
       "4        gl3p61d          GoogleFi   \n",
       "...          ...               ...   \n",
       "2210370  glfetdv              ak47   \n",
       "2210371  glk77ge    suggestmeabook   \n",
       "2210372  gln2zl5      Conservative   \n",
       "2210373  glnud2d            videos   \n",
       "2210374  glocu2h  liberalgunowners   \n",
       "\n",
       "                                                      Body    Author  Score  \\\n",
       "0        Good, a bit white. Testing out the Gopro Hero ...  Mutiny32      1   \n",
       "1                            https://imgur.com/Zn42vby.jpg  Mutiny32      1   \n",
       "2        1. Lose 20 pounds by April 24  2. Run Zurich M...  Mutiny32      1   \n",
       "3                                   Is a Pop Tart ravioli?  Mutiny32      5   \n",
       "4        I have this exact same situation. Also apparen...  Mutiny32      2   \n",
       "...                                                    ...       ...    ...   \n",
       "2210370                                             thanks    bownt1      1   \n",
       "2210371                           we are legion we are bob    bownt1      3   \n",
       "2210372     im betting it will be super unconstitutional !    bownt1     41   \n",
       "2210373       i always wondered how they got the bones out    bownt1      2   \n",
       "2210374                                 they make 9mm ak s    bownt1      1   \n",
       "\n",
       "                Publish Date  \\\n",
       "0        2021-01-02 02:15:23   \n",
       "1        2021-01-02 02:25:21   \n",
       "2        2021-01-02 16:49:08   \n",
       "3        2021-01-19 04:47:27   \n",
       "4        2021-01-28 16:29:50   \n",
       "...                      ...   \n",
       "2210370  2021-01-31 01:42:14   \n",
       "2210371  2021-02-01 05:08:15   \n",
       "2210372  2021-02-01 20:54:52   \n",
       "2210373  2021-02-01 23:56:30   \n",
       "2210374  2021-02-02 02:17:49   \n",
       "\n",
       "                                                 Permalink   Parent_id  \\\n",
       "0        /r/running/comments/kobr64/how_was_your_new_ye...   t3_kobr64   \n",
       "1        /r/running/comments/koaxgm/its_photo_friday_le...   t3_koaxgm   \n",
       "2        /r/AdvancedRunning/comments/koenal/2021_goal_s...   t3_koenal   \n",
       "3        /r/nfl/comments/l07gj6/chiefs_qb_mahomes_remai...  t1_gjsl19c   \n",
       "4        /r/GoogleFi/comments/l6rpa9/activated_s215g/gl...  t1_gl3lqf6   \n",
       "...                                                    ...         ...   \n",
       "2210370  /r/ak47/comments/l8vca3/what_would_you_upgrade...  t1_glfejji   \n",
       "2210371  /r/suggestmeabook/comments/l9uceg/books_about_...   t3_l9uceg   \n",
       "2210372  /r/Conservative/comments/lacbnw/many_us_gun_ow...   t3_lacbnw   \n",
       "2210373  /r/videos/comments/lagnfs/1980s_mcrib_commerci...   t3_lagnfs   \n",
       "2210374  /r/liberalgunowners/comments/laftrj/i_did_not_...  t1_globova   \n",
       "\n",
       "           Post_id  \n",
       "0        t3_kobr64  \n",
       "1        t3_koaxgm  \n",
       "2        t3_koenal  \n",
       "3        t3_l07gj6  \n",
       "4        t3_l6rpa9  \n",
       "...            ...  \n",
       "2210370  t3_l8vca3  \n",
       "2210371  t3_l9uceg  \n",
       "2210372  t3_lacbnw  \n",
       "2210373  t3_lagnfs  \n",
       "2210374  t3_laftrj  \n",
       "\n",
       "[2210375 rows x 9 columns]"
      ]
     },
     "execution_count": 6,
     "metadata": {},
     "output_type": "execute_result"
    }
   ],
   "source": [
    "df"
   ]
  },
  {
   "cell_type": "code",
   "execution_count": 27,
   "metadata": {},
   "outputs": [],
   "source": [
    "df_combs=pd.DataFrame(df.groupby(['Subreddit','Author']).groups.keys(),columns=[\"Subreddit\",\"Author\"])"
   ]
  },
  {
   "cell_type": "code",
   "execution_count": 6,
   "metadata": {},
   "outputs": [
    {
     "name": "stdout",
     "output_type": "stream",
     "text": [
      "60\n"
     ]
    },
    {
     "data": {
      "text/plain": [
       "<AxesSubplot:ylabel='Frequency'>"
      ]
     },
     "execution_count": 6,
     "metadata": {},
     "output_type": "execute_result"
    },
    {
     "data": {
      "image/png": "[encoded data removed]",
      "text/plain": [
       "<Figure size 1080x360 with 1 Axes>"
      ]
     },
     "metadata": {
      "needs_background": "light"
     },
     "output_type": "display_data"
    }
   ],
   "source": [
    "counts=df[\"Author\"].value_counts()\n",
    "counts[counts>20]=20\n",
    "print(counts[counts==1].shape[0])\n",
    "counts.plot.hist(bins=20,ylim=(0,5000),figsize=(15,5))"
   ]
  },
  {
   "cell_type": "code",
   "execution_count": 22,
   "metadata": {},
   "outputs": [
    {
     "data": {
      "text/plain": [
       "<AxesSubplot:ylabel='Frequency'>"
      ]
     },
     "execution_count": 22,
     "metadata": {},
     "output_type": "execute_result"
    },
    {
     "data": {
      "image/png": "[encoded data removed]",
      "text/plain": [
       "<Figure size 1080x360 with 1 Axes>"
      ]
     },
     "metadata": {
      "needs_background": "light"
     },
     "output_type": "display_data"
    }
   ],
   "source": [
    "lens=df[\"Body\"].str.len()\n",
    "lens[lens>1000]=1000\n",
    "lens.plot.hist(bins=20,ylim=(0,500000),figsize=(15,5))\n"
   ]
  },
  {
   "cell_type": "code",
   "execution_count": 32,
   "metadata": {},
   "outputs": [
    {
     "data": {
      "text/plain": [
       "<AxesSubplot:ylabel='Frequency'>"
      ]
     },
     "execution_count": 32,
     "metadata": {},
     "output_type": "execute_result"
    },
    {
     "data": {
      "image/png": "[encoded data removed]",
      "text/plain": [
       "<Figure size 432x288 with 1 Axes>"
      ]
     },
     "metadata": {
      "needs_background": "light"
     },
     "output_type": "display_data"
    }
   ],
   "source": [
    "counts.plot.hist(bins=30,ylim=(0,500),xlim=(0,60000))"
   ]
  },
  {
   "cell_type": "code",
   "execution_count": 33,
   "metadata": {},
   "outputs": [
    {
     "data": {
      "text/plain": [
       "<AxesSubplot:ylabel='Frequency'>"
      ]
     },
     "execution_count": 33,
     "metadata": {},
     "output_type": "execute_result"
    },
    {
     "data": {
      "image/png": "[encoded data removed]",
      "text/plain": [
       "<Figure size 432x288 with 1 Axes>"
      ]
     },
     "metadata": {
      "needs_background": "light"
     },
     "output_type": "display_data"
    }
   ],
   "source": [
    "counts.plot.hist(bins=5000,ylim=(0,500),xlim=(0,100))"
   ]
  },
  {
   "cell_type": "code",
   "execution_count": 34,
   "metadata": {},
   "outputs": [],
   "source": [
    "\n",
    "def plot_hist(data, column, title=\"Histogram\", title_x=\"X Axis\", title_y=\"Y Axis\", bins=10, save=None):\n",
    "\n",
    "    plt.ioff()\n",
    "\n",
    "    items = bins\n",
    "    if column==\"reviews\": data.loc[data[column]>=20]=20\n",
    "    plt.hist(data[str(column)], bins=range(1, items + 2), edgecolor='black',\n",
    "             align=\"left\")  # arguments are passed to np.histogram\n",
    "    labels = list(map(lambda x: str(x), range(1, items + 1)))\n",
    "    labels[-1] = \"≥\" + labels[-1]\n",
    "    plt.xticks(range(1, items + 1), labels)\n",
    "    plt.title(str(title))\n",
    "\n",
    "    plt.xlabel(title_x)\n",
    "    plt.ylabel(title_y)\n",
    "\n",
    "    if save is None:\n",
    "        plt.show()\n",
    "    else:\n",
    "        plt.savefig(str(save))\n",
    "    \n",
    "    plt.cla()"
   ]
  },
  {
   "cell_type": "code",
   "execution_count": 84,
   "metadata": {},
   "outputs": [
    {
     "data": {
      "image/png": "[encoded data removed]",
      "text/plain": [
       "<Figure size 432x288 with 1 Axes>"
      ]
     },
     "metadata": {
      "needs_background": "light"
     },
     "output_type": "display_data"
    }
   ],
   "source": [
    "dataset=\"covid_march21_userdata\"\n",
    "os.makedirs(dataset,exist_ok=True)\n",
    "\n",
    "sts0 = df.groupby('Author').apply(\n",
    "\t\t\tlambda x: pd.Series({\"comments\": len(x[\"Subreddit\"].unique())})).reset_index()\n",
    "plot_hist(sts0, \"comments\", title=\"\", title_x=\"Num. of Subreddits\", title_y=\"Num. of users\", bins=20,\n",
    "\t\t\t\t  save=dataset+\"/\"+\"hist_subreddits_pr_usr.pdf\")\n",
    "\n",
    "sts1 = df.groupby('Subreddit').apply(\n",
    "\tlambda x: pd.Series({\"reviews\": len(x[\"Author\"].unique())})).reset_index()\n",
    "plot_hist(sts1, \"reviews\", title=\"\", title_x=\"Num. of users\", title_y=\"Num. of Subreddits\", bins=20,\n",
    "\t\t\tsave=dataset+\"/\"+\"hist_usrs_per_subreddit.pdf\")\n",
    "\n",
    "sts2 = df.groupby(['Author', 'Subreddit']).size().reset_index(name=\"fotos\")\n",
    "plot_hist(sts2, \"fotos\", title=\"\", title_x=\"Num. of Comments in Subreddit\", title_y=\"Num. of users\", bins=20,\n",
    "\t\t\tsave=dataset+\"/\"+\"hist_comments_per_user_per_subreddit.pdf\")\n",
    "\n",
    "sts3 = df.groupby(['Subreddit','Author']).size().reset_index(name=\"Count\").groupby('Author').mean()\n",
    "plot_hist(sts3, \"Count\", title=\"\", title_x=\"Avg. No. of Comments per Subreddit\", title_y=\"No. of users\", bins=20,\n",
    "\t\t\tsave=dataset+\"/\"+\"hist_avg_comments_per_subreddit_per_user.pdf\")"
   ]
  },
  {
   "cell_type": "code",
   "execution_count": 35,
   "metadata": {},
   "outputs": [
    {
     "data": {
      "text/plain": [
       "30279"
      ]
     },
     "execution_count": 35,
     "metadata": {},
     "output_type": "execute_result"
    }
   ],
   "source": [
    "len(df[\"Subreddit\"].unique())"
   ]
  },
  {
   "cell_type": "code",
   "execution_count": 59,
   "metadata": {},
   "outputs": [],
   "source": [
    "df_combs=pd.DataFrame(df.groupby(['Subreddit','Author']).groups.keys(),columns=[\"Subreddit\",\"Author\"])\n",
    "\n"
   ]
  },
  {
   "cell_type": "code",
   "execution_count": 37,
   "metadata": {},
   "outputs": [
    {
     "data": {
      "text/html": [
       "<div>\n",
       "<style scoped>\n",
       "    .dataframe tbody tr th:only-of-type {\n",
       "        vertical-align: middle;\n",
       "    }\n",
       "\n",
       "    .dataframe tbody tr th {\n",
       "        vertical-align: top;\n",
       "    }\n",
       "\n",
       "    .dataframe thead th {\n",
       "        text-align: right;\n",
       "    }\n",
       "</style>\n",
       "<table border=\"1\" class=\"dataframe\">\n",
       "  <thead>\n",
       "    <tr style=\"text-align: right;\">\n",
       "      <th></th>\n",
       "      <th>Count</th>\n",
       "    </tr>\n",
       "    <tr>\n",
       "      <th>Author</th>\n",
       "      <th></th>\n",
       "    </tr>\n",
       "  </thead>\n",
       "  <tbody>\n",
       "    <tr>\n",
       "      <th>----NSA----</th>\n",
       "      <td>3.225806</td>\n",
       "    </tr>\n",
       "    <tr>\n",
       "      <th>--Blackjack-</th>\n",
       "      <td>5.823529</td>\n",
       "    </tr>\n",
       "    <tr>\n",
       "      <th>--Edog--</th>\n",
       "      <td>2.000000</td>\n",
       "    </tr>\n",
       "    <tr>\n",
       "      <th>--_-_o_-_--</th>\n",
       "      <td>5.052632</td>\n",
       "    </tr>\n",
       "    <tr>\n",
       "      <th>--_l</th>\n",
       "      <td>2.325581</td>\n",
       "    </tr>\n",
       "    <tr>\n",
       "      <th>...</th>\n",
       "      <td>...</td>\n",
       "    </tr>\n",
       "    <tr>\n",
       "      <th>zyklon_snuggles</th>\n",
       "      <td>47.500000</td>\n",
       "    </tr>\n",
       "    <tr>\n",
       "      <th>zypherman</th>\n",
       "      <td>4.333333</td>\n",
       "    </tr>\n",
       "    <tr>\n",
       "      <th>zz23ke</th>\n",
       "      <td>3.769231</td>\n",
       "    </tr>\n",
       "    <tr>\n",
       "      <th>zzulus</th>\n",
       "      <td>2.130435</td>\n",
       "    </tr>\n",
       "    <tr>\n",
       "      <th>zzyul</th>\n",
       "      <td>20.000000</td>\n",
       "    </tr>\n",
       "  </tbody>\n",
       "</table>\n",
       "<p>25816 rows × 1 columns</p>\n",
       "</div>"
      ],
      "text/plain": [
       "                     Count\n",
       "Author                    \n",
       "----NSA----       3.225806\n",
       "--Blackjack-      5.823529\n",
       "--Edog--          2.000000\n",
       "--_-_o_-_--       5.052632\n",
       "--_l              2.325581\n",
       "...                    ...\n",
       "zyklon_snuggles  47.500000\n",
       "zypherman         4.333333\n",
       "zz23ke            3.769231\n",
       "zzulus            2.130435\n",
       "zzyul            20.000000\n",
       "\n",
       "[25816 rows x 1 columns]"
      ]
     },
     "execution_count": 37,
     "metadata": {},
     "output_type": "execute_result"
    }
   ],
   "source": [
    "comb_sizes=df.groupby(['Subreddit','Author']).size().reset_index()\n",
    "\n",
    "comb_sizes.columns=['Subreddit','Author','Count']\n",
    "\n",
    "comb_sizes.groupby('Author').mean()"
   ]
  },
  {
   "cell_type": "code",
   "execution_count": 39,
   "metadata": {},
   "outputs": [
    {
     "name": "stdout",
     "output_type": "stream",
     "text": [
      "30279\n",
      "25816\n"
     ]
    },
    {
     "data": {
      "text/html": [
       "<div>\n",
       "<style scoped>\n",
       "    .dataframe tbody tr th:only-of-type {\n",
       "        vertical-align: middle;\n",
       "    }\n",
       "\n",
       "    .dataframe tbody tr th {\n",
       "        vertical-align: top;\n",
       "    }\n",
       "\n",
       "    .dataframe thead th {\n",
       "        text-align: right;\n",
       "    }\n",
       "</style>\n",
       "<table border=\"1\" class=\"dataframe\">\n",
       "  <thead>\n",
       "    <tr style=\"text-align: right;\">\n",
       "      <th></th>\n",
       "      <th>Count</th>\n",
       "    </tr>\n",
       "    <tr>\n",
       "      <th>Author</th>\n",
       "      <th></th>\n",
       "    </tr>\n",
       "  </thead>\n",
       "  <tbody>\n",
       "    <tr>\n",
       "      <th>----NSA----</th>\n",
       "      <td>3.225806</td>\n",
       "    </tr>\n",
       "    <tr>\n",
       "      <th>--Blackjack-</th>\n",
       "      <td>5.823529</td>\n",
       "    </tr>\n",
       "    <tr>\n",
       "      <th>--Edog--</th>\n",
       "      <td>2.000000</td>\n",
       "    </tr>\n",
       "    <tr>\n",
       "      <th>--_-_o_-_--</th>\n",
       "      <td>5.052632</td>\n",
       "    </tr>\n",
       "    <tr>\n",
       "      <th>--_l</th>\n",
       "      <td>2.325581</td>\n",
       "    </tr>\n",
       "    <tr>\n",
       "      <th>...</th>\n",
       "      <td>...</td>\n",
       "    </tr>\n",
       "    <tr>\n",
       "      <th>zyklon_snuggles</th>\n",
       "      <td>47.500000</td>\n",
       "    </tr>\n",
       "    <tr>\n",
       "      <th>zypherman</th>\n",
       "      <td>4.333333</td>\n",
       "    </tr>\n",
       "    <tr>\n",
       "      <th>zz23ke</th>\n",
       "      <td>3.769231</td>\n",
       "    </tr>\n",
       "    <tr>\n",
       "      <th>zzulus</th>\n",
       "      <td>2.130435</td>\n",
       "    </tr>\n",
       "    <tr>\n",
       "      <th>zzyul</th>\n",
       "      <td>20.000000</td>\n",
       "    </tr>\n",
       "  </tbody>\n",
       "</table>\n",
       "<p>25816 rows × 1 columns</p>\n",
       "</div>"
      ],
      "text/plain": [
       "                     Count\n",
       "Author                    \n",
       "----NSA----       3.225806\n",
       "--Blackjack-      5.823529\n",
       "--Edog--          2.000000\n",
       "--_-_o_-_--       5.052632\n",
       "--_l              2.325581\n",
       "...                    ...\n",
       "zyklon_snuggles  47.500000\n",
       "zypherman         4.333333\n",
       "zz23ke            3.769231\n",
       "zzulus            2.130435\n",
       "zzyul            20.000000\n",
       "\n",
       "[25816 rows x 1 columns]"
      ]
     },
     "execution_count": 39,
     "metadata": {},
     "output_type": "execute_result"
    },
    {
     "data": {
      "image/png": "[encoded data removed]",
      "text/plain": [
       "<Figure size 1080x360 with 1 Axes>"
      ]
     },
     "metadata": {
      "needs_background": "light"
     },
     "output_type": "display_data"
    }
   ],
   "source": [
    "dataset=\"covid_march21_userdata\"\n",
    "comb_sizes.groupby('Author').mean().plot.hist(bins=25,figsize=(15,5),xlabel='Avg No. of Comments Per Subreddit')\n",
    "\n",
    "plt.ylabel('No. of Users')\n",
    "plt.xlabel('Avg Comments per Subreddit')\n",
    "plt.savefig(dataset+\"/\"+\"avg_comments_per_sureddit_per_user.pdf\")\n",
    "print(len(pd.unique(df[\"Subreddit\"])))\n",
    "print(len(pd.unique(df[\"Author\"])))\n",
    "\n",
    "df.groupby(['Subreddit','Author']).size().reset_index(name=\"Count\").groupby('Author').mean()"
   ]
  },
  {
   "cell_type": "code",
   "execution_count": 40,
   "metadata": {},
   "outputs": [
    {
     "ename": "KeyboardInterrupt",
     "evalue": "",
     "output_type": "error",
     "traceback": [
      "\u001b[1;31m---------------------------------------------------------------------------\u001b[0m",
      "\u001b[1;31mKeyboardInterrupt\u001b[0m                         Traceback (most recent call last)",
      "\u001b[1;32m<ipython-input-40-955de67ca890>\u001b[0m in \u001b[0;36m<module>\u001b[1;34m\u001b[0m\n\u001b[0;32m      7\u001b[0m         \u001b[1;32mreturn\u001b[0m \u001b[1;32mFalse\u001b[0m\u001b[1;33m\u001b[0m\u001b[1;33m\u001b[0m\u001b[0m\n\u001b[0;32m      8\u001b[0m \u001b[1;33m\u001b[0m\u001b[0m\n\u001b[1;32m----> 9\u001b[1;33m \u001b[0mdf\u001b[0m\u001b[1;33m[\u001b[0m\u001b[1;34m\"is_covid_related\"\u001b[0m\u001b[1;33m]\u001b[0m\u001b[1;33m=\u001b[0m\u001b[0mdf\u001b[0m\u001b[1;33m.\u001b[0m\u001b[0mapply\u001b[0m\u001b[1;33m(\u001b[0m\u001b[1;32mlambda\u001b[0m \u001b[0mrow\u001b[0m\u001b[1;33m:\u001b[0m \u001b[0mis_covid_related\u001b[0m\u001b[1;33m(\u001b[0m\u001b[0mrow\u001b[0m\u001b[1;33m)\u001b[0m\u001b[1;33m,\u001b[0m \u001b[0maxis\u001b[0m\u001b[1;33m=\u001b[0m\u001b[1;36m1\u001b[0m\u001b[1;33m)\u001b[0m\u001b[1;33m\u001b[0m\u001b[1;33m\u001b[0m\u001b[0m\n\u001b[0m",
      "\u001b[1;32md:\\Reddit\\venv36\\lib\\site-packages\\pandas\\core\\frame.py\u001b[0m in \u001b[0;36mapply\u001b[1;34m(self, func, axis, raw, result_type, args, **kwds)\u001b[0m\n\u001b[0;32m   7550\u001b[0m             \u001b[0mkwds\u001b[0m\u001b[1;33m=\u001b[0m\u001b[0mkwds\u001b[0m\u001b[1;33m,\u001b[0m\u001b[1;33m\u001b[0m\u001b[1;33m\u001b[0m\u001b[0m\n\u001b[0;32m   7551\u001b[0m         )\n\u001b[1;32m-> 7552\u001b[1;33m         \u001b[1;32mreturn\u001b[0m \u001b[0mop\u001b[0m\u001b[1;33m.\u001b[0m\u001b[0mget_result\u001b[0m\u001b[1;33m(\u001b[0m\u001b[1;33m)\u001b[0m\u001b[1;33m\u001b[0m\u001b[1;33m\u001b[0m\u001b[0m\n\u001b[0m\u001b[0;32m   7553\u001b[0m \u001b[1;33m\u001b[0m\u001b[0m\n\u001b[0;32m   7554\u001b[0m     \u001b[1;32mdef\u001b[0m \u001b[0mapplymap\u001b[0m\u001b[1;33m(\u001b[0m\u001b[0mself\u001b[0m\u001b[1;33m,\u001b[0m \u001b[0mfunc\u001b[0m\u001b[1;33m)\u001b[0m \u001b[1;33m->\u001b[0m \u001b[1;34m\"DataFrame\"\u001b[0m\u001b[1;33m:\u001b[0m\u001b[1;33m\u001b[0m\u001b[1;33m\u001b[0m\u001b[0m\n",
      "\u001b[1;32md:\\Reddit\\venv36\\lib\\site-packages\\pandas\\core\\apply.py\u001b[0m in \u001b[0;36mget_result\u001b[1;34m(self)\u001b[0m\n\u001b[0;32m    183\u001b[0m             \u001b[1;32mreturn\u001b[0m \u001b[0mself\u001b[0m\u001b[1;33m.\u001b[0m\u001b[0mapply_raw\u001b[0m\u001b[1;33m(\u001b[0m\u001b[1;33m)\u001b[0m\u001b[1;33m\u001b[0m\u001b[1;33m\u001b[0m\u001b[0m\n\u001b[0;32m    184\u001b[0m \u001b[1;33m\u001b[0m\u001b[0m\n\u001b[1;32m--> 185\u001b[1;33m         \u001b[1;32mreturn\u001b[0m \u001b[0mself\u001b[0m\u001b[1;33m.\u001b[0m\u001b[0mapply_standard\u001b[0m\u001b[1;33m(\u001b[0m\u001b[1;33m)\u001b[0m\u001b[1;33m\u001b[0m\u001b[1;33m\u001b[0m\u001b[0m\n\u001b[0m\u001b[0;32m    186\u001b[0m \u001b[1;33m\u001b[0m\u001b[0m\n\u001b[0;32m    187\u001b[0m     \u001b[1;32mdef\u001b[0m \u001b[0mapply_empty_result\u001b[0m\u001b[1;33m(\u001b[0m\u001b[0mself\u001b[0m\u001b[1;33m)\u001b[0m\u001b[1;33m:\u001b[0m\u001b[1;33m\u001b[0m\u001b[1;33m\u001b[0m\u001b[0m\n",
      "\u001b[1;32md:\\Reddit\\venv36\\lib\\site-packages\\pandas\\core\\apply.py\u001b[0m in \u001b[0;36mapply_standard\u001b[1;34m(self)\u001b[0m\n\u001b[0;32m    274\u001b[0m \u001b[1;33m\u001b[0m\u001b[0m\n\u001b[0;32m    275\u001b[0m     \u001b[1;32mdef\u001b[0m \u001b[0mapply_standard\u001b[0m\u001b[1;33m(\u001b[0m\u001b[0mself\u001b[0m\u001b[1;33m)\u001b[0m\u001b[1;33m:\u001b[0m\u001b[1;33m\u001b[0m\u001b[1;33m\u001b[0m\u001b[0m\n\u001b[1;32m--> 276\u001b[1;33m         \u001b[0mresults\u001b[0m\u001b[1;33m,\u001b[0m \u001b[0mres_index\u001b[0m \u001b[1;33m=\u001b[0m \u001b[0mself\u001b[0m\u001b[1;33m.\u001b[0m\u001b[0mapply_series_generator\u001b[0m\u001b[1;33m(\u001b[0m\u001b[1;33m)\u001b[0m\u001b[1;33m\u001b[0m\u001b[1;33m\u001b[0m\u001b[0m\n\u001b[0m\u001b[0;32m    277\u001b[0m \u001b[1;33m\u001b[0m\u001b[0m\n\u001b[0;32m    278\u001b[0m         \u001b[1;31m# wrap results\u001b[0m\u001b[1;33m\u001b[0m\u001b[1;33m\u001b[0m\u001b[1;33m\u001b[0m\u001b[0m\n",
      "\u001b[1;32md:\\Reddit\\venv36\\lib\\site-packages\\pandas\\core\\apply.py\u001b[0m in \u001b[0;36mapply_series_generator\u001b[1;34m(self)\u001b[0m\n\u001b[0;32m    303\u001b[0m                 \u001b[1;32mfor\u001b[0m \u001b[0mi\u001b[0m\u001b[1;33m,\u001b[0m \u001b[0mv\u001b[0m \u001b[1;32min\u001b[0m \u001b[0menumerate\u001b[0m\u001b[1;33m(\u001b[0m\u001b[0mseries_gen\u001b[0m\u001b[1;33m)\u001b[0m\u001b[1;33m:\u001b[0m\u001b[1;33m\u001b[0m\u001b[1;33m\u001b[0m\u001b[0m\n\u001b[0;32m    304\u001b[0m                     \u001b[1;31m# ignore SettingWithCopy here in case the user mutates\u001b[0m\u001b[1;33m\u001b[0m\u001b[1;33m\u001b[0m\u001b[1;33m\u001b[0m\u001b[0m\n\u001b[1;32m--> 305\u001b[1;33m                     \u001b[0mresults\u001b[0m\u001b[1;33m[\u001b[0m\u001b[0mi\u001b[0m\u001b[1;33m]\u001b[0m \u001b[1;33m=\u001b[0m \u001b[0mself\u001b[0m\u001b[1;33m.\u001b[0m\u001b[0mf\u001b[0m\u001b[1;33m(\u001b[0m\u001b[0mv\u001b[0m\u001b[1;33m)\u001b[0m\u001b[1;33m\u001b[0m\u001b[1;33m\u001b[0m\u001b[0m\n\u001b[0m\u001b[0;32m    306\u001b[0m                     \u001b[1;32mif\u001b[0m \u001b[0misinstance\u001b[0m\u001b[1;33m(\u001b[0m\u001b[0mresults\u001b[0m\u001b[1;33m[\u001b[0m\u001b[0mi\u001b[0m\u001b[1;33m]\u001b[0m\u001b[1;33m,\u001b[0m \u001b[0mABCSeries\u001b[0m\u001b[1;33m)\u001b[0m\u001b[1;33m:\u001b[0m\u001b[1;33m\u001b[0m\u001b[1;33m\u001b[0m\u001b[0m\n\u001b[0;32m    307\u001b[0m                         \u001b[1;31m# If we have a view on v, we need to make a copy because\u001b[0m\u001b[1;33m\u001b[0m\u001b[1;33m\u001b[0m\u001b[1;33m\u001b[0m\u001b[0m\n",
      "\u001b[1;32m<ipython-input-40-955de67ca890>\u001b[0m in \u001b[0;36m<lambda>\u001b[1;34m(row)\u001b[0m\n\u001b[0;32m      7\u001b[0m         \u001b[1;32mreturn\u001b[0m \u001b[1;32mFalse\u001b[0m\u001b[1;33m\u001b[0m\u001b[1;33m\u001b[0m\u001b[0m\n\u001b[0;32m      8\u001b[0m \u001b[1;33m\u001b[0m\u001b[0m\n\u001b[1;32m----> 9\u001b[1;33m \u001b[0mdf\u001b[0m\u001b[1;33m[\u001b[0m\u001b[1;34m\"is_covid_related\"\u001b[0m\u001b[1;33m]\u001b[0m\u001b[1;33m=\u001b[0m\u001b[0mdf\u001b[0m\u001b[1;33m.\u001b[0m\u001b[0mapply\u001b[0m\u001b[1;33m(\u001b[0m\u001b[1;32mlambda\u001b[0m \u001b[0mrow\u001b[0m\u001b[1;33m:\u001b[0m \u001b[0mis_covid_related\u001b[0m\u001b[1;33m(\u001b[0m\u001b[0mrow\u001b[0m\u001b[1;33m)\u001b[0m\u001b[1;33m,\u001b[0m \u001b[0maxis\u001b[0m\u001b[1;33m=\u001b[0m\u001b[1;36m1\u001b[0m\u001b[1;33m)\u001b[0m\u001b[1;33m\u001b[0m\u001b[1;33m\u001b[0m\u001b[0m\n\u001b[0m",
      "\u001b[1;32m<ipython-input-40-955de67ca890>\u001b[0m in \u001b[0;36mis_covid_related\u001b[1;34m(row)\u001b[0m\n\u001b[0;32m      2\u001b[0m \u001b[1;33m\u001b[0m\u001b[0m\n\u001b[0;32m      3\u001b[0m \u001b[1;32mdef\u001b[0m \u001b[0mis_covid_related\u001b[0m\u001b[1;33m(\u001b[0m\u001b[0mrow\u001b[0m\u001b[1;33m)\u001b[0m\u001b[1;33m:\u001b[0m\u001b[1;33m\u001b[0m\u001b[1;33m\u001b[0m\u001b[0m\n\u001b[1;32m----> 4\u001b[1;33m     \u001b[1;32mif\u001b[0m \u001b[0many\u001b[0m\u001b[1;33m(\u001b[0m\u001b[0mk\u001b[0m\u001b[1;33m.\u001b[0m\u001b[0mlower\u001b[0m\u001b[1;33m(\u001b[0m\u001b[1;33m)\u001b[0m \u001b[1;32min\u001b[0m \u001b[0mstr\u001b[0m\u001b[1;33m(\u001b[0m\u001b[0mrow\u001b[0m\u001b[1;33m[\u001b[0m\u001b[1;34m\"Body\"\u001b[0m\u001b[1;33m]\u001b[0m\u001b[1;33m)\u001b[0m\u001b[1;33m.\u001b[0m\u001b[0mlower\u001b[0m\u001b[1;33m(\u001b[0m\u001b[1;33m)\u001b[0m \u001b[1;32mfor\u001b[0m \u001b[0mk\u001b[0m \u001b[1;32min\u001b[0m \u001b[0mkeywords\u001b[0m\u001b[1;33m)\u001b[0m\u001b[1;33m:\u001b[0m\u001b[1;33m\u001b[0m\u001b[1;33m\u001b[0m\u001b[0m\n\u001b[0m\u001b[0;32m      5\u001b[0m         \u001b[1;32mreturn\u001b[0m \u001b[1;36m1\u001b[0m\u001b[1;33m\u001b[0m\u001b[1;33m\u001b[0m\u001b[0m\n\u001b[0;32m      6\u001b[0m     \u001b[1;32melse\u001b[0m\u001b[1;33m:\u001b[0m\u001b[1;33m\u001b[0m\u001b[1;33m\u001b[0m\u001b[0m\n",
      "\u001b[1;32m<ipython-input-40-955de67ca890>\u001b[0m in \u001b[0;36m<genexpr>\u001b[1;34m(.0)\u001b[0m\n\u001b[0;32m      2\u001b[0m \u001b[1;33m\u001b[0m\u001b[0m\n\u001b[0;32m      3\u001b[0m \u001b[1;32mdef\u001b[0m \u001b[0mis_covid_related\u001b[0m\u001b[1;33m(\u001b[0m\u001b[0mrow\u001b[0m\u001b[1;33m)\u001b[0m\u001b[1;33m:\u001b[0m\u001b[1;33m\u001b[0m\u001b[1;33m\u001b[0m\u001b[0m\n\u001b[1;32m----> 4\u001b[1;33m     \u001b[1;32mif\u001b[0m \u001b[0many\u001b[0m\u001b[1;33m(\u001b[0m\u001b[0mk\u001b[0m\u001b[1;33m.\u001b[0m\u001b[0mlower\u001b[0m\u001b[1;33m(\u001b[0m\u001b[1;33m)\u001b[0m \u001b[1;32min\u001b[0m \u001b[0mstr\u001b[0m\u001b[1;33m(\u001b[0m\u001b[0mrow\u001b[0m\u001b[1;33m[\u001b[0m\u001b[1;34m\"Body\"\u001b[0m\u001b[1;33m]\u001b[0m\u001b[1;33m)\u001b[0m\u001b[1;33m.\u001b[0m\u001b[0mlower\u001b[0m\u001b[1;33m(\u001b[0m\u001b[1;33m)\u001b[0m \u001b[1;32mfor\u001b[0m \u001b[0mk\u001b[0m \u001b[1;32min\u001b[0m \u001b[0mkeywords\u001b[0m\u001b[1;33m)\u001b[0m\u001b[1;33m:\u001b[0m\u001b[1;33m\u001b[0m\u001b[1;33m\u001b[0m\u001b[0m\n\u001b[0m\u001b[0;32m      5\u001b[0m         \u001b[1;32mreturn\u001b[0m \u001b[1;36m1\u001b[0m\u001b[1;33m\u001b[0m\u001b[1;33m\u001b[0m\u001b[0m\n\u001b[0;32m      6\u001b[0m     \u001b[1;32melse\u001b[0m\u001b[1;33m:\u001b[0m\u001b[1;33m\u001b[0m\u001b[1;33m\u001b[0m\u001b[0m\n",
      "\u001b[1;32md:\\Reddit\\venv36\\lib\\site-packages\\pandas\\core\\series.py\u001b[0m in \u001b[0;36m__getitem__\u001b[1;34m(self, key)\u001b[0m\n\u001b[0;32m    869\u001b[0m         \u001b[0mkey\u001b[0m \u001b[1;33m=\u001b[0m \u001b[0mcom\u001b[0m\u001b[1;33m.\u001b[0m\u001b[0mapply_if_callable\u001b[0m\u001b[1;33m(\u001b[0m\u001b[0mkey\u001b[0m\u001b[1;33m,\u001b[0m \u001b[0mself\u001b[0m\u001b[1;33m)\u001b[0m\u001b[1;33m\u001b[0m\u001b[1;33m\u001b[0m\u001b[0m\n\u001b[0;32m    870\u001b[0m \u001b[1;33m\u001b[0m\u001b[0m\n\u001b[1;32m--> 871\u001b[1;33m         \u001b[1;32mif\u001b[0m \u001b[0mkey\u001b[0m \u001b[1;32mis\u001b[0m \u001b[0mEllipsis\u001b[0m\u001b[1;33m:\u001b[0m\u001b[1;33m\u001b[0m\u001b[1;33m\u001b[0m\u001b[0m\n\u001b[0m\u001b[0;32m    872\u001b[0m             \u001b[1;32mreturn\u001b[0m \u001b[0mself\u001b[0m\u001b[1;33m\u001b[0m\u001b[1;33m\u001b[0m\u001b[0m\n\u001b[0;32m    873\u001b[0m \u001b[1;33m\u001b[0m\u001b[0m\n",
      "\u001b[1;31mKeyboardInterrupt\u001b[0m: "
     ]
    }
   ],
   "source": [
    "keywords=[\"vaccine\", \"covid\", \"corona\", \"coronavirus\", \"sars-cov-2\", \"vaccine\",\"vaccinat\",\"antivax\", \"anti-vax\", \"vaxxe\",\"pfizer\",\"moderna\",\"biontech\",\"jansenn\",\"sinopharm\",\"astrazeneca\",\"sputnik v\",\"novavax\",\"flattening the curve\", \"flatten the curve\", \"immunity\", \"pandemic\", \"world health organization\", \"face mask\"]\n",
    "\n",
    "def is_covid_related(row):\n",
    "    if any(k.lower() in str(row[\"Body\"]).lower() for k in keywords):\n",
    "        return 1\n",
    "    else:\n",
    "        return False\n",
    "\n",
    "df[\"is_covid_related\"]=df.apply(lambda row: is_covid_related(row), axis=1)\n"
   ]
  },
  {
   "cell_type": "code",
   "execution_count": 41,
   "metadata": {},
   "outputs": [
    {
     "name": "stdout",
     "output_type": "stream",
     "text": [
      "2117699\n",
      "92676\n",
      "22.850565410678062\n"
     ]
    },
    {
     "data": {
      "image/png": "[encoded data removed]",
      "text/plain": [
       "<Figure size 432x288 with 1 Axes>"
      ]
     },
     "metadata": {
      "needs_background": "light"
     },
     "output_type": "display_data"
    }
   ],
   "source": [
    "df.loc[ df[\"is_covid_related\"] == False, \"is_covid_related\"] = 0\n",
    "df[\"is_covid_related\"].plot.hist()\n",
    "print(len(df[\"is_covid_related\"][df[\"is_covid_related\"]==0]))\n",
    "print(len(df[\"is_covid_related\"][df[\"is_covid_related\"]==1]))\n",
    "\n",
    "print(len(df[\"is_covid_related\"][df[\"is_covid_related\"]==0])/len(df[\"is_covid_related\"][df[\"is_covid_related\"]==1]))\n"
   ]
  },
  {
   "cell_type": "code",
   "execution_count": 47,
   "metadata": {},
   "outputs": [
    {
     "data": {
      "text/plain": [
       "<AxesSubplot:ylabel='Frequency'>"
      ]
     },
     "execution_count": 47,
     "metadata": {},
     "output_type": "execute_result"
    },
    {
     "data": {
      "image/png": "[encoded data removed]",
      "text/plain": [
       "<Figure size 432x288 with 1 Axes>"
      ]
     },
     "metadata": {
      "needs_background": "light"
     },
     "output_type": "display_data"
    }
   ],
   "source": [
    "covid_twits_per_subreddit=df[df[\"is_covid_related\"]==1][\"Subreddit\"].value_counts()\n",
    "# covid_twits_per_subreddit.plot.hist(bins=1000,xlim=(0,500),ylim=(0,500))\n",
    "\n",
    "covid_twits_per_subreddit[covid_twits_per_subreddit>20]=20\n",
    "covid_twits_per_subreddit.plot.hist(bins=20,xlim=(0,20),ylim=(0,500))"
   ]
  },
  {
   "cell_type": "code",
   "execution_count": 43,
   "metadata": {},
   "outputs": [
    {
     "data": {
      "text/plain": [
       "4711"
      ]
     },
     "execution_count": 43,
     "metadata": {},
     "output_type": "execute_result"
    }
   ],
   "source": [
    "len(covid_twits_per_subreddit)"
   ]
  }
 ],
 "metadata": {
  "kernelspec": {
   "display_name": "Python 3.6.8 ('venv36': venv)",
   "language": "python",
   "name": "python3"
  },
  "language_info": {
   "codemirror_mode": {
    "name": "ipython",
    "version": 3
   },
   "file_extension": ".py",
   "mimetype": "text/x-python",
   "name": "python",
   "nbconvert_exporter": "python",
   "pygments_lexer": "ipython3",
   "version": "3.6.8"
  },
  "orig_nbformat": 4,
  "vscode": {
   "interpreter": {
    "hash": "d139cf7422c5a76cf5769719a1204e04692e199facd844335c34f47ea57b5e0e"
   }
  }
 },
 "nbformat": 4,
 "nbformat_minor": 2
}
